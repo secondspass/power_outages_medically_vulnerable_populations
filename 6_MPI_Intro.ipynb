{
 "cells": [
  {
   "cell_type": "markdown",
   "id": "1841f494-98d6-44a1-be26-a0550f7a0e1b",
   "metadata": {},
   "source": [
    "## Message Passing Interface (MPI) Introduction\n",
    "\n",
    "High-Performance Computing is a field that leverages parallel processing to solve complex problems efficiently. \n",
    "\n",
    "A popular approach to parallel programming is the `Message Passing Interface (MPI)`.\n",
    "\n",
    "In this tutorial, we will use Python and MPI to analyze power outage data from EAGLE-i, which contains information about the number of power outages, aggregated by county, in 15-minute time intervals. \n",
    "\n",
    "We will explore how using multiple processors to our advantage can save time when working with large datasets, and use the MPI for Python (`mpi4py`) package, which provides a simple Python interface to the MPI.\n",
    "\n",
    "MPI is designed to allows users to easily perform distributed parallel processing across multiple processors on a single computer or even multiple nodes on an HPC system.\n",
    "\n",
    "### Pre-requisites\n",
    "\n",
    "- Eagle-i data (2014-2022 dataset available at: https://drive.google.com/drive/u/0/folders/15skV7CWnMBLkrGIPmLrh1GgNPA00iUuB)\n",
    "\n",
    "### Getting Started\n",
    "1. Load and pre-process the power outage data\n",
    "2. Divide the data into chunks to distribute among MPI processes\n",
    "3. Implement parallel processing using MPI\n",
    "4. Analyze and interpret the results\n",
    "\n",
    "### Additional Resources: \n",
    "* Commonly Used HPC Terms: https://researchcomputing.princeton.edu/learn/glossary\n",
    "* MPI Learning Resources: https://researchcomputing.princeton.edu/education/external-online-resources/mpi\n",
    "  * MPI Tutorial by LBNL: https://hpc-tutorials.llnl.gov/mpi/\n",
    "* Additional Research Computing Resources: https://researchcomputing.princeton.edu/learn/tutorials/external-resources-learning\n",
    "\n",
    "\n",
    "Refer to the `eaglei_mpi_scripts` folder for the MPI tutorials.\n"
   ]
  }
 ],
 "metadata": {
  "kernelspec": {
   "display_name": "Python 3 (ipykernel)",
   "language": "python",
   "name": "python3"
  },
  "language_info": {
   "codemirror_mode": {
    "name": "ipython",
    "version": 3
   },
   "file_extension": ".py",
   "mimetype": "text/x-python",
   "name": "python",
   "nbconvert_exporter": "python",
   "pygments_lexer": "ipython3",
   "version": "3.9.16"
  }
 },
 "nbformat": 4,
 "nbformat_minor": 5
}
