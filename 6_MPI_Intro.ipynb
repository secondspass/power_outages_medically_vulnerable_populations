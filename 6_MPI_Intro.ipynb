{
 "cells": [
  {
   "cell_type": "markdown",
   "id": "1841f494-98d6-44a1-be26-a0550f7a0e1b",
   "metadata": {},
   "source": [
    "## Refer to the [eaglei_mpi_scripts](eaglei_mpi_scripts/6_MPI_exercises.ipynb) folder for the MPI tutorials.\n",
    "\n",
    "\n",
    "_This may help you do your work faster if you are looking at all the years of data provided. This is the HPC part of the project and is a good tutorial for mpi4py even if you don't use it to answer any of the big questions._    \n",
    "\n",
    "High-Performance Computing is a field that leverages parallel processing to solve complex problems efficiently. \n",
    "\n",
    "A popular approach to parallel programming is the `Message Passing Interface (MPI)`.\n",
    "\n",
    "In this tutorial, we will use Python and MPI to analyze power outage data from EAGLE-i, which contains information about the number of power outages, aggregated by county, in 15-minute time intervals. \n",
    "\n",
    "We will explore how using multiple processors to our advantage can save time when working with large datasets, and use the MPI for Python (`mpi4py`) package, which provides a simple Python interface to the MPI.\n",
    "\n",
    "The Message Passing Interface (MPI) is a set of library functions, methods, and specifications that can be called to distribute a code's processing work between nodes or processors on the same node. It does this by passing messages between the processors. It is governed by a set of community driven standards. MPI is designed to allows users to easily perform distributed parallel processing. \n",
    "\n",
    "\n",
    "### Pre-requisites\n",
    "\n",
    "- Eagle-i data (2014-2022 dataset available at: https://drive.google.com/drive/u/0/folders/15skV7CWnMBLkrGIPmLrh1GgNPA00iUuB) and also in the data folder.\n",
    "\n",
    "### Getting Started\n",
    "Head to the eaglei_mpi_scripts folder for the MPI tutorials and open the 6_MPI_Exercises.ipynb.\n",
    "\n",
    "### Additional Resources: \n",
    "* Commonly Used HPC Terms: https://researchcomputing.princeton.edu/learn/glossary\n",
    "* MPI Learning Resources: https://researchcomputing.princeton.edu/education/external-online-resources/mpi\n",
    "  * MPI Tutorial by LBNL: https://hpc-tutorials.llnl.gov/mpi/\n",
    "* Additional Research Computing Resources: https://researchcomputing.princeton.edu/learn/tutorials/external-resources-learning\n",
    "\n"
   ]
  },
  {
   "cell_type": "code",
   "execution_count": null,
   "id": "d72d7821",
   "metadata": {},
   "outputs": [],
   "source": []
  }
 ],
 "metadata": {
  "kernelspec": {
   "display_name": "Python 3 (ipykernel)",
   "language": "python",
   "name": "python3"
  },
  "language_info": {
   "codemirror_mode": {
    "name": "ipython",
    "version": 3
   },
   "file_extension": ".py",
   "mimetype": "text/x-python",
   "name": "python",
   "nbconvert_exporter": "python",
   "pygments_lexer": "ipython3",
   "version": "3.9.16"
  }
 },
 "nbformat": 4,
 "nbformat_minor": 5
}
