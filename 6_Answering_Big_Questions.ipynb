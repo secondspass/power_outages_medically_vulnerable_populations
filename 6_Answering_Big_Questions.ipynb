{
 "cells": [
  {
   "cell_type": "markdown",
   "id": "49f16c44",
   "metadata": {},
   "source": [
    "# Answering the big questions! \n",
    "\n",
    "Now for the real fun! Use this notebook to work through answering the Big Questions. Apply what you learned about using Pandas and the various other tools to load the data and analyze it. Call Subil or one of the peer mentors to assist if you're stuck.\n",
    "\n",
    "Good luck!!"
   ]
  },
  {
   "cell_type": "markdown",
   "id": "d2ea54cd",
   "metadata": {},
   "source": [
    "1. Which counties in the Southwest US were hit with the highest temperatures in June 17-24, 2016? Can you show it visually, one chart for each day showing the top X counties? (Datasets: CtyAvTemp6XY16.csv where XY is 17,18,19,...,24)"
   ]
  },
  {
   "cell_type": "code",
   "execution_count": null,
   "id": "23d361b8",
   "metadata": {},
   "outputs": [],
   "source": []
  },
  {
   "cell_type": "markdown",
   "id": "4e98c480",
   "metadata": {},
   "source": []
  },
  {
   "cell_type": "code",
   "execution_count": null,
   "id": "82ebb0df",
   "metadata": {},
   "outputs": [],
   "source": []
  },
  {
   "cell_type": "code",
   "execution_count": null,
   "id": "d1e7a967",
   "metadata": {},
   "outputs": [],
   "source": []
  },
  {
   "cell_type": "code",
   "execution_count": null,
   "id": "8dd1c8e3",
   "metadata": {},
   "outputs": [],
   "source": []
  },
  {
   "cell_type": "code",
   "execution_count": null,
   "id": "7b9c466d",
   "metadata": {},
   "outputs": [],
   "source": []
  },
  {
   "cell_type": "code",
   "execution_count": null,
   "id": "1ac4af1f",
   "metadata": {},
   "outputs": [],
   "source": []
  },
  {
   "cell_type": "code",
   "execution_count": null,
   "id": "460734ef",
   "metadata": {},
   "outputs": [],
   "source": []
  },
  {
   "cell_type": "markdown",
   "id": "0731f707",
   "metadata": {},
   "source": []
  },
  {
   "cell_type": "markdown",
   "id": "7da70c03",
   "metadata": {},
   "source": [
    "8. Try submitting a couple of jobs to the Perlmutter supercomputer.\n",
    "\n",
    "This one will need a bit of an introduction. In the folder submit_jobs there are a few python files. "
   ]
  }
 ],
 "metadata": {
  "kernelspec": {
   "display_name": "Python 3 (ipykernel)",
   "language": "python",
   "name": "python3"
  },
  "language_info": {
   "codemirror_mode": {
    "name": "ipython",
    "version": 3
   },
   "file_extension": ".py",
   "mimetype": "text/x-python",
   "name": "python",
   "nbconvert_exporter": "python",
   "pygments_lexer": "ipython3",
   "version": "3.9.16"
  }
 },
 "nbformat": 4,
 "nbformat_minor": 5
}
