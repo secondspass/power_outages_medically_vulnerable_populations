{
 "cells": [
  {
   "cell_type": "markdown",
   "id": "0bc630a9",
   "metadata": {},
   "source": [
    "# Answering the big questions!\n",
    "\n",
    "Now for the real fun! Use this notebook to work through answering the Big Questions. Apply what you learned about using Pandas and the various other tools to load the data and analyze it. Call one of the trainers or peer mentors to assist if you're stuck.\n",
    "\n",
    "Good luck!!\n",
    "\n",
    "## The Big Questions for this Project:\n",
    "\n",
    "These are the questions you will be trying to answer using the data you have been given and the skills you developed during the bootcamp and by going through the material in the Jupyter Notebooks. Unless stated otherwise, focus on the counties in the states California, Nevada, and Arizona (but feel free to explore other states too if you're curious once your done answering the questions for those states!). Use the notebook 6_Answering_Big_Questions.ipynb to work on your answers (you can split the work up between the group by making a copy of the notebook for each member, or work on it together in the same notebook). \n",
    "\n",
    "1. Which counties in the Southwest US were hit with the highest average temperatures in June 17-24, 2016? Can you show it visually, one chart for each day showing the top X counties? (Datasets: CtyAvTemp6XY16.csv where XY is 17,18,19,...,24)\n",
    "\n",
    "2. Of the counties in the SW United States, for June 2016, which counties had the highest and lowest DME reliant population? What percentage of the total population of the county is that? Can you show the top X counties for each? (Datasets:  2016_HHSemPOWERMapHistoricalDataset.xlsx)\n",
    "\n",
    "3. Can you show the average number of customers without power per county during the heatwave? Can you show it visually, one chart for each day of June 17-24 showing the top X counties? (Data sets: eaglei_outages_2016.csv) \n",
    "    1. To show how the power outage numbers during a heatwave differ from days when there wasn't a heatwave, can you determine what the average number of customers without power per county is during a time period there wasn't a heatwave? And can you include that information in your charts?\n",
    "    \n",
    "4. Do counties with higher DME reliant populations have higher average power outages i.e. is there a correlation? Can you use one of the statistical tests you learned to identify this correlation? (Datasets: 2016_HHSemPOWERMapHistoricalDataset.xlsx and eaglei_outages_2016.csv)\n",
    "    1. Remember that correlation doesn't imply causation. We're only trying to see if there is a statistically significant relationship between these two values.\n",
    "    \n",
    "You are doing super well if you get through question 4! The rest of the questions are stretch goals. Feel free to do any of them that you find interesting. \n",
    "    \n",
    "5. Can you generate a map showing, for a given day, the counties with the highest temperatures along with their average power outage size for that day, and the size of the DME reliant population of that county? (Datasets: eaglei_outages_2016.csv, CtyAvTemp6XY16.csv where XY is 17,18,19,...,24, 2016_HHSemPOWERMapHistoricalDataset.xlsx)\n",
    "\n",
    "6. Try submitting a couple of jobs to the Perlmutter supercomputer. See 6_MPI_Intro.ipynb for more information.\n",
    "\n",
    "8.  Can you tell if the number of customers without power is correlated with the highest temperatures of a particular day during the heatwave? Pick a county or a few counties to make it simpler. (Datasets: eaglei_outages_2016.csv and  search the internet for hourly temperature information for that particular day. You may even have to make your own dataframe with the hourly temperature information if you want to use Pandas to identify the correlation. Here's an example resource that shows hourly temperatures: https://www.timeanddate.com/weather/usa/los-angeles/historic?month=6&year=2016016/historic?month=6&year=20166&year=2016).\n",
    "    1. You may have to use interpolation to potentially fill in missing data.\n",
    "\n",
    "9. Can you identify if there is a correlation between the size of the medically vulnerable populations in counties and the size of the asthmatic population in counties? (Datasets: 2016_HHSemPOWERMapHistoricalDataset.xlsx and CtyAvDemog2010.csv . Note that the CtyAvDemog2010.csv is data from 2010. Make sure you are considering that caveat when you present the results.)\n",
    "    1. Are you able to investigate if there is a correlation between the size of the medically vulnerable populations and anything else in the CtyAvDemog2010.csv data? What have you tried to investigate? And what did it show you? \n",
    "\n",
    "10. Look for data on the internet about another natural disaster that happened between 2015 and 2021 and see if you can repeat the analysis for it. How many customers lost power? How exposed were the medically vulnerable populations in those counties? examine the power outage information from the data in eaglei_outages from among the years we have available data for. \n",
    "  \n",
    "\n",
    "\n",
    "\n",
    "**Note** You do not have to tackle the Big Questions with the exercises given in this guide if you have another plan in mind to work with. These are here to help you get started and are not mandatory.\n",
    "\n",
    "\n",
    "### The Final Product:\n",
    "\n",
    "You will combine your visualizations and insights from answering the big questions into a presentation that you will give on the last day of the workshop. \n",
    "And given what you see for many of these power outages and the populations that might be affected, what recommendations would you make for readiness for heatwaves: a. for local emergency services b. to the county government c. to the state and federal government. Make sure to include that in your presentation.\n",
    "\n",
    "\n",
    "### Goals:\n",
    "\n",
    "* Discuss access to electrical power to medically vulnerable populations and the size of those populations affected during power outages\n",
    "* Understand how to use statistical tests to justify correlations.\n",
    "* Understand how to create and use visualizations to show connections and correlations in big data.\n",
    "* Utilize Python and Excel to explore large data frames.\n",
    "* Discuss how doing tasks in parallel is more efficient than doing them in series.\n",
    "* Present your analyses to the judges in the presentation and explain the assumptions you made in your analyses. For example, if you use “total customers” for a given region to represent relative total populations between counties, acknowledge that while the members of one household are all counted as one customer and businesses are a customer too, \"total customers\" is still a measure of relative size of the populations of customers living in each county.\n",
    "\n"
   ]
  },
  {
   "cell_type": "code",
   "execution_count": null,
   "id": "8c077d09",
   "metadata": {},
   "outputs": [],
   "source": []
  }
 ],
 "metadata": {
  "kernelspec": {
   "display_name": "Python 3 (ipykernel)",
   "language": "python",
   "name": "python3"
  },
  "language_info": {
   "codemirror_mode": {
    "name": "ipython",
    "version": 3
   },
   "file_extension": ".py",
   "mimetype": "text/x-python",
   "name": "python",
   "nbconvert_exporter": "python",
   "pygments_lexer": "ipython3",
   "version": "3.9.16"
  }
 },
 "nbformat": 4,
 "nbformat_minor": 5
}
