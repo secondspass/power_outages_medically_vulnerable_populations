{
 "cells": [
  {
   "cell_type": "markdown",
   "id": "927ce572",
   "metadata": {},
   "source": [
    "# ORNL: Power Outages and Socioeconomics: Exploring the datasets\n",
    "\n",
    "\n",
    "Prerequisites: README.md (TODO link)\n"
   ]
  },
  {
   "cell_type": "markdown",
   "id": "5398b9a8",
   "metadata": {
    "jp-MarkdownHeadingCollapsed": true
   },
   "source": [
    "## Familiarizing yourself with the dataset and generating charts with with Google Sheets\n",
    "\n",
    "Let's start with just getting familiar with the datasets as they are before we jump into using Python.\n",
    "We're going to be looking at our data using Excel (or google docs) just so you're familiar with what the data should look like. All the data we need is in this google drive folder: https://drive.google.com/drive/folders/1fAaBPgWWaA_9VB2iYUAWeW8biTXJQFwZ?usp=sharing\n",
    "\n",
    "\n",
    "Download the above datasets onto your computer to open it in microsoft excel, or open it in Google Sheets directly from Google Drive if you don't have excel on your computer. The rest of this notebook will cover instructions for Google Sheets only.\n",
    "\n",
    "To start with, lets open the CtyAvTemp6202016.csv file in Excel or in Sheets. We are going to try and generate a bar chart of the Average temperature in Farenheit for each county listed in the file. \n",
    "\n",
    "Looking at the column names, you'll notice some terms you might not be familiar with. `STATEFP` and `COUNTYFP` represent the 2 digit state part and and the 3 digit county part of the [FIPS Code](https://en.wikipedia.org/wiki/FIPS_county_code). A county or county equivalent in the US is usually given a 5 digit FIPS Code. You'll notice that the `GEOID` column represents the full FIPS Code is a combination of of the `STATEFP` and `COUNTYFP` (note that some `GEOID` values are 4 digits and some are 5 digits. The FIPS Code should be represented as always a 5 digit number, it's just that your spreadsheet decides to remove the zero if its the first digit. But the 5 digits are needed to properly identify a county. \n",
    "\n",
    "Another thing is the `TempK` column representing the average temperature in Kelvin. Lets create a column representing the temperature in Farenheit. The formula to convert Kelvin to Farenheit value is `F = 1.8*(K-273) + 32`. We don't want to manually calculate each Farenheit value, so lets see how to fill an entire column with the corresponding Farenheit value.\n",
    "\n",
    "Create a a new column `TempF` and enter the below formula in the first cell in the new column and press enter.\n",
    "\n",
    "```\n",
    "=(1.8*(I2-273)+32)\n",
    "```\n",
    "\n",
    "Where `I2` is the id of the first cell in the `TempK` column.\n",
    "\n",
    "![screenshot showing TempK column and formula entered in first cell of TempF column](images/sheetsformula.jpg)\n",
    "\n",
    "Pressing enter will show two things, one is that the formula is replaced by the calculated farenheit value, and two is that google sheets might suggest an autofill to fill out the rest of the column with the same formula to convert K to F for each corresponding value in TempK. (If there is no autofill suggestion, click on the first cell in the TempF column with the formula, and double click the blue circle you see in the bottom left corner of the highlighted cell. This will fill out the formula for the rest of the column).\n",
    "\n",
    "\n",
    "![screenshot highlighting the blue circle that will autofill the column](images/sheetsformulaexpand.jpg)\n",
    "\n",
    "\n",
    "Next, lets create a bar chart. Obviously, creating a bar chart for the whole sheet would result in a very big bar chart, so we might want to select down our data to say a few states. For my example, I'm going to select down the data to the specific state FIPS codes 04 (AZ), 32 (NV), and 06 (CA) for my bar chart. You can do this by selcting Data->Filter Views->Create a New Filter View . Then go to the top of the columns and click on the three horizontal lines next to `STATEFP`. In the dropdown menu that opens, click on `Filter by values` and select 4,6,32 (or whichever other states you wanted to examine). \n",
    "\n",
    "![screenshot showing filter dropdown menu with state FPs selected](images/sheetsfilterviewselectstates.jpg)\n",
    "\n",
    "\n",
    "Now creating the bar chart is pretty straightforward. Click on Insert->Chart and in the sidebar that opens select Column Chart from the Chart type dropdown. Then click on X-Axis in the sidebar and select GEOID from the list (if GEOID is not listed as an option then click on the 'Select a data range' button in the dropdown (looks like a square with a cross inside it) and then click on the column id (the alphabet above the GEOID column title) which will fill the range in the 'Select a data range' text box that opens.\n",
    "\n",
    "![screenshot showing column selection for xaxis, column D (GEOID) is highlighted and the D column range is shown in the Select a data range textbox](images/sheetsbarchartselectrange.jpg)\n",
    "\n",
    "Do any other customizations to your barchart from the sidebar to your liking. Try playing around with other charts to see if that gives you anything interesting.\n",
    "\n",
    "### Exercise\n",
    "\n",
    "Now that your familiar with navigating the data with google docs and making charts, lets try to explore  2016_HHSemPOWERMapHistoricalDataset.xlsx in the same way. When you open the xlsx file in google sheets, you will see it has three sheets 'State', 'County', 'Zip Code' which you can switch between with the tabs at the bottom. \n",
    "1. Try to create a bar chart of the DME users for the month of June. If you're using the 'State' sheet, select some states using the filters (or just do all states). If you're using the 'County' sheet, select some counties with the filter. \n",
    "2. Are you able to see any variation in population over the months in the year for a given state (or set of states)? Can you generate a chart to visualize that?\n",
    "3. Are you able to identify which counties in the SW United States had the highest number of DME dependent populations during the time of the June 2016 heatwave? Can you create a chart for that?\n",
    "4. From exploring the data so far, is there any other perspective you would want to see that you can bring out by drawing charts?\n"
   ]
  },
  {
   "cell_type": "markdown",
   "id": "ff07bccb",
   "metadata": {},
   "source": [
    "## Note\n",
    "\n",
    "Unfortunately Google Sheets is not able to open any of the eaglei_outages_YYYY.csv files because they are too big. If you have Excel, try opening them with that if you want to see what they look like! If not, the notebook 2_Python_Pandas_Intro.ipynb will show you how to load the file and view the table using Python and Pandas. "
   ]
  },
  {
   "cell_type": "code",
   "execution_count": null,
   "id": "c81e8651",
   "metadata": {},
   "outputs": [],
   "source": []
  }
 ],
 "metadata": {
  "kernelspec": {
   "display_name": "Python 3 (ipykernel)",
   "language": "python",
   "name": "python3"
  },
  "language_info": {
   "codemirror_mode": {
    "name": "ipython",
    "version": 3
   },
   "file_extension": ".py",
   "mimetype": "text/x-python",
   "name": "python",
   "nbconvert_exporter": "python",
   "pygments_lexer": "ipython3",
   "version": "3.9.16"
  }
 },
 "nbformat": 4,
 "nbformat_minor": 5
}
